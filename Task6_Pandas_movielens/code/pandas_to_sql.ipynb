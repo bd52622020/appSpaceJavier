{
 "cells": [
  {
   "cell_type": "code",
   "execution_count": 2,
   "metadata": {},
   "outputs": [],
   "source": [
    "import sqlite3;\n",
    "import pandas as pd;\n",
    "import numpy as np;\n",
    "from datetime import datetime;"
   ]
  },
  {
   "cell_type": "code",
   "execution_count": 12,
   "metadata": {},
   "outputs": [],
   "source": [
    "# Connect SQLite\n",
    "def create_connection(db_file):\n",
    "    \"\"\" create a database connection to the SQLite database\n",
    "        specified by the db_file\n",
    "    :param db_file: database file\n",
    "    :return: Connection object or None\n",
    "    \"\"\"\n",
    "    conn = None\n",
    "    try:\n",
    "        conn = sqlite3.connect(db_file)\n",
    "    except Error as e:\n",
    "        print(e)\n",
    "\n",
    "    return conn\n",
    "\n",
    "conn = create_connection(\"movielens.db\")\n",
    "c = conn.cursor()"
   ]
  },
  {
   "cell_type": "code",
   "execution_count": 13,
   "metadata": {},
   "outputs": [],
   "source": [
    "# Create tables of movie lens in pandas\n",
    "\n",
    "path = \"../data/\"\n",
    "r_movies = [\"movie_id\",\"movie_title\",\"release_date\",\"video_release_date\",\"IMDb_URL\",\"unknown\",\"Action\",\"Adventure\",\"Animation\",\"Children's\",\"Comedy\",\"Crime\",\"Documentary\",\"Drama\",\"Fantasy\",\"Film-Noir\",\"Horror\",\"Musical\",\"Mystery\",\"Romance\",\"Sci-Fi\",\"Thriller\",\"War\",\"Western\"]\n",
    "movies = pd.read_csv(path + 'u.item', sep='|', header=None, names=r_movies, encoding = \"ISO-8859-1\")\n",
    "movies['release_date'] = pd.to_datetime(movies['release_date'])\n",
    "\n",
    "r_cols = ['user_id', 'movie_id', 'rating', 'unix_timestamp']\n",
    "ratings = pd.read_csv(path + 'u.data', delim_whitespace=True, header=None, names=r_cols, encoding = \"ISO-8859-1\")\n",
    "\n",
    "r_users = [\"user_id\" , \"age\" , \"gender\" , \"occupation\" , \"zip_code\"]\n",
    "users = pd.read_csv(path + 'u.user', encoding = \"ISO-8859-1\", sep='|', names=r_users)"
   ]
  },
  {
   "cell_type": "code",
   "execution_count": 14,
   "metadata": {},
   "outputs": [],
   "source": [
    "# Create tables from Pandas to SQL\n",
    "movies.to_sql('MOVIES', conn, if_exists='replace', index=False)\n",
    "ratings.to_sql('RATINGS', conn, if_exists='replace', index=False)\n",
    "users.to_sql('USERS', conn, if_exists='replace', index=False)"
   ]
  },
  {
   "cell_type": "code",
   "execution_count": 35,
   "metadata": {},
   "outputs": [],
   "source": [
    "# JOINS\n",
    "movie_ratings = c.execute('''\n",
    "CREATE TABLE IF NOT EXISTS movies_ratings AS\n",
    "SELECT * FROM movies INNER JOIN ratings \n",
    "ON movies.movie_id = ratings.movie_id;\n",
    "''')\n",
    "movies_ratings_users = c.execute('''\n",
    "CREATE TABLE IF NOT EXISTS movies_ratings_users AS\n",
    "SELECT * FROM movies_ratings INNER JOIN users \n",
    "ON movies_ratings.user_id = users.user_id;\n",
    "''')"
   ]
  },
  {
   "cell_type": "code",
   "execution_count": 32,
   "metadata": {},
   "outputs": [
    {
     "name": "stdout",
     "output_type": "stream",
     "text": [
      "(100000,)\n"
     ]
    }
   ],
   "source": [
    "# Simple query\n",
    "c.execute('''SELECT COUNT(*) FROM movies_ratings_users''')\n",
    "for row in c.fetchall():\n",
    "    print (row)"
   ]
  },
  {
   "cell_type": "code",
   "execution_count": 40,
   "metadata": {},
   "outputs": [
    {
     "name": "stdout",
     "output_type": "stream",
     "text": [
      "('Toy Story (1995)', 452)\n",
      "('GoldenEye (1995)', 131)\n",
      "('Four Rooms (1995)', 90)\n",
      "('Get Shorty (1995)', 209)\n",
      "('Copycat (1995)', 86)\n",
      "('Shanghai Triad (Yao a yao yao dao waipo qiao) (1995)', 26)\n",
      "('Twelve Monkeys (1995)', 392)\n",
      "('Babe (1995)', 219)\n",
      "('Dead Man Walking (1995)', 299)\n",
      "('Richard III (1995)', 89)\n"
     ]
    }
   ],
   "source": [
    "# 1) Print a list of the 10 movies that received the most number of ratings.\n",
    "# most_rated_movies = movies_ratings_users[\"movie_title\"].value_counts(sort=True)\n",
    "q1 = c.execute('''\n",
    "SELECT movie_title, COUNT(*) FROM movies_ratings_users\n",
    "GROUP BY movie_id LIMIT 10;\n",
    "''')\n",
    "for row in c.fetchall():\n",
    "    print (row)"
   ]
  },
  {
   "cell_type": "code",
   "execution_count": 41,
   "metadata": {},
   "outputs": [
    {
     "name": "stdout",
     "output_type": "stream",
     "text": [
      "('Star Wars (1977)', 583)\n",
      "('Contact (1997)', 509)\n",
      "('Fargo (1996)', 508)\n",
      "('Return of the Jedi (1983)', 507)\n",
      "('Liar Liar (1997)', 485)\n",
      "('English Patient, The (1996)', 481)\n",
      "('Scream (1996)', 478)\n",
      "('Toy Story (1995)', 452)\n",
      "('Air Force One (1997)', 431)\n",
      "('Independence Day (ID4) (1996)', 429)\n"
     ]
    }
   ],
   "source": [
    "# 2) Print a list of the 10 movies that received the most number of ratings, sorted by the number of ratings\n",
    "q2 = c.execute('''\n",
    "SELECT movie_title, COUNT(*) FROM movies_ratings_users\n",
    "GROUP BY movie_id ORDER BY COUNT(*) DESC LIMIT 10;\n",
    "''')\n",
    "for row in c.fetchall():\n",
    "    print (row)"
   ]
  },
  {
   "cell_type": "code",
   "execution_count": null,
   "metadata": {},
   "outputs": [],
   "source": []
  }
 ],
 "metadata": {
  "kernelspec": {
   "display_name": "Python 3",
   "language": "python",
   "name": "python3"
  },
  "language_info": {
   "codemirror_mode": {
    "name": "ipython",
    "version": 3
   },
   "file_extension": ".py",
   "mimetype": "text/x-python",
   "name": "python",
   "nbconvert_exporter": "python",
   "pygments_lexer": "ipython3",
   "version": "3.6.9"
  }
 },
 "nbformat": 4,
 "nbformat_minor": 4
}
