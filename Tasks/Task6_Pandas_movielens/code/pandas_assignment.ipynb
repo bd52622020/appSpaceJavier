{
 "cells": [
  {
   "cell_type": "code",
   "execution_count": 2,
   "metadata": {},
   "outputs": [],
   "source": [
    "#--------------------------------------------------- \n",
    "#Tools: Excel, Python Pandas\n",
    "    # Print a list of the 10 movies that received the most number of ratings, sorted by the number of ratings.\n",
    "    #------------- Print a list of the number of ratings received by each genre.\n",
    "    #--------------------------------- Print the oldest movie with a “5” rating.\n",
    "    #---------------- Print a list of the genre of the top 10 most rated movies.\n",
    "    #---------- Print the title of the movie that was rated the most by students\n",
    "    #--- Print the list of movies that received the highest number of “5” rating\n",
    "    # Print the list of zip codes corresponding to the highest number of users that rated movies.\n",
    "    #------------- Find the most rated movie by users in the age group 20 to 25.\n",
    "    #------------------ Print the list of movies that were rate after year 1960.\n",
    "#------------------------------------------------------------------------- BONUS\n",
    "# 1) Convert UnixTimeStamp in  timestamp column of u.data to human readable date\n",
    "\n",
    "import pandas as pd;\n",
    "import numpy as np;\n",
    "from datetime import datetime;\n",
    "\n",
    "path = \"../data/\"\n",
    "r_movies = [\"movie_id\",\"movie_title\",\"release_date\",\"video_release_date\",\"IMDb_URL\",\"unknown\",\"Action\",\"Adventure\",\"Animation\",\"Children's\",\"Comedy\",\"Crime\",\"Documentary\",\"Drama\",\"Fantasy\",\"Film-Noir\",\"Horror\",\"Musical\",\"Mystery\",\"Romance\",\"Sci-Fi\",\"Thriller\",\"War\",\"Western\"]\n",
    "movies = pd.read_csv(path + 'u.item', sep='|', header=None, names=r_movies, encoding = \"ISO-8859-1\")\n",
    "movies['release_date'] = pd.to_datetime(movies['release_date'])\n",
    "\n",
    "r_cols = ['user_id', 'movie_id', 'rating', 'unix_timestamp']\n",
    "ratings = pd.read_csv(path + 'u.data', delim_whitespace=True, header=None, names=r_cols, encoding = \"ISO-8859-1\")\n",
    "\n",
    "r_users = [\"user_id\" , \"age\" , \"gender\" , \"occupation\" , \"zip_code\"]\n",
    "users = pd.read_csv(path + 'u.user', encoding = \"ISO-8859-1\", sep='|', names=r_users)"
   ]
  },
  {
   "cell_type": "code",
   "execution_count": 27,
   "metadata": {},
   "outputs": [
    {
     "name": "stdout",
     "output_type": "stream",
     "text": [
      "     movie_id                             movie_title release_date  \\\n",
      "100       174          Raiders of the Lost Ark (1981)   1981-01-01   \n",
      "101       175                           Brazil (1985)   1985-01-01   \n",
      "102       176                           Aliens (1986)   1986-01-01   \n",
      "103       177  Good, The Bad and The Ugly, The (1966)   1966-01-01   \n",
      "104       178                     12 Angry Men (1957)   1957-01-01   \n",
      "105       179              Clockwork Orange, A (1971)   1971-01-01   \n",
      "106       180                   Apocalypse Now (1979)   1979-01-01   \n",
      "107       181               Return of the Jedi (1983)   1997-03-14   \n",
      "108       182                       GoodFellas (1990)   1990-01-01   \n",
      "109       183                            Alien (1979)   1979-01-01   \n",
      "110       184                 Army of Darkness (1993)   1993-01-01   \n",
      "111       185                           Psycho (1960)   1960-01-01   \n",
      "112       186              Blues Brothers, The (1980)   1980-01-01   \n",
      "113       187          Godfather: Part II, The (1974)   1974-01-01   \n",
      "114       191                          Amadeus (1984)   1984-01-01   \n",
      "115       192                      Raging Bull (1980)   1980-01-01   \n",
      "116       193                 Right Stuff, The (1983)   1983-01-01   \n",
      "117       194                       Sting, The (1973)   1973-01-01   \n",
      "118       195                  Terminator, The (1984)   1984-01-01   \n",
      "119       196               Dead Poets Society (1989)   1989-01-01   \n",
      "\n",
      "     video_release_date                                           IMDb_URL  \\\n",
      "100                 NaN  http://us.imdb.com/M/title-exact?Raiders%20of%...   \n",
      "101                 NaN   http://us.imdb.com/M/title-exact?Brazil%20(1985)   \n",
      "102                 NaN   http://us.imdb.com/M/title-exact?Aliens%20(1986)   \n",
      "103                 NaN  http://us.imdb.com/M/title-exact?Buono,%20il%2...   \n",
      "104                 NaN  http://us.imdb.com/M/title-exact?12%20Angry%20...   \n",
      "105                 NaN  http://us.imdb.com/M/title-exact?Clockwork%20O...   \n",
      "106                 NaN  http://us.imdb.com/M/title-exact?Apocalypse%20...   \n",
      "107                 NaN  http://us.imdb.com/M/title-exact?Return%20of%2...   \n",
      "108                 NaN  http://us.imdb.com/M/title-exact?GoodFellas%20...   \n",
      "109                 NaN    http://us.imdb.com/M/title-exact?Alien%20(1979)   \n",
      "110                 NaN  http://us.imdb.com/M/title-exact?Army%20of%20D...   \n",
      "111                 NaN   http://us.imdb.com/M/title-exact?Psycho%20(1960)   \n",
      "112                 NaN  http://us.imdb.com/M/title-exact?Blues%20Broth...   \n",
      "113                 NaN  http://us.imdb.com/M/title-exact?Godfather:%20...   \n",
      "114                 NaN  http://us.imdb.com/M/title-exact?Amadeus%20(1984)   \n",
      "115                 NaN  http://us.imdb.com/M/title-exact?Raging%20Bull...   \n",
      "116                 NaN  http://us.imdb.com/M/title-exact?Right%20Stuff...   \n",
      "117                 NaN  http://us.imdb.com/M/title-exact?Sting,%20The%...   \n",
      "118                 NaN  http://us.imdb.com/M/title-exact?Terminator,%2...   \n",
      "119                 NaN  http://us.imdb.com/M/title-exact?Dead%20Poets%...   \n",
      "\n",
      "     unknown  Action  Adventure  Animation  Children's  ...  Thriller  War  \\\n",
      "100        0       1          1          0           0  ...         0    0   \n",
      "101        0       0          0          0           0  ...         0    0   \n",
      "102        0       1          0          0           0  ...         1    1   \n",
      "103        0       1          0          0           0  ...         0    0   \n",
      "104        0       0          0          0           0  ...         0    0   \n",
      "105        0       0          0          0           0  ...         0    0   \n",
      "106        0       0          0          0           0  ...         0    1   \n",
      "107        0       1          1          0           0  ...         0    1   \n",
      "108        0       0          0          0           0  ...         0    0   \n",
      "109        0       1          0          0           0  ...         1    0   \n",
      "110        0       1          1          0           0  ...         0    0   \n",
      "111        0       0          0          0           0  ...         1    0   \n",
      "112        0       1          0          0           0  ...         0    0   \n",
      "113        0       1          0          0           0  ...         0    0   \n",
      "114        0       0          0          0           0  ...         0    0   \n",
      "115        0       0          0          0           0  ...         0    0   \n",
      "116        0       0          0          0           0  ...         0    0   \n",
      "117        0       0          0          0           0  ...         0    0   \n",
      "118        0       1          0          0           0  ...         1    0   \n",
      "119        0       0          0          0           0  ...         0    0   \n",
      "\n",
      "     Western  user_id  rating  unix_timestamp  age  gender  occupation  \\\n",
      "100        0      308       4       887736696   60       M     retired   \n",
      "101        0      308       5       887736999   60       M     retired   \n",
      "102        0      308       4       887736696   60       M     retired   \n",
      "103        1      308       5       887738570   60       M     retired   \n",
      "104        0      308       4       887737719   60       M     retired   \n",
      "105        0      308       4       887736584   60       M     retired   \n",
      "106        0      308       5       887737997   60       M     retired   \n",
      "107        0      308       4       887739095   60       M     retired   \n",
      "108        0      308       5       887737194   60       M     retired   \n",
      "109        0      308       4       887736695   60       M     retired   \n",
      "110        0      308       4       887738847   60       M     retired   \n",
      "111        0      308       4       887736925   60       M     retired   \n",
      "112        0      308       4       887738152   60       M     retired   \n",
      "113        0      308       5       887738760   60       M     retired   \n",
      "114        0      308       4       887736797   60       M     retired   \n",
      "115        0      308       5       887736696   60       M     retired   \n",
      "116        0      308       3       887737837   60       M     retired   \n",
      "117        0      308       5       887739257   60       M     retired   \n",
      "118        0      308       5       887738619   60       M     retired   \n",
      "119        0      308       3       887739951   60       M     retired   \n",
      "\n",
      "     zip_code  \n",
      "100     95076  \n",
      "101     95076  \n",
      "102     95076  \n",
      "103     95076  \n",
      "104     95076  \n",
      "105     95076  \n",
      "106     95076  \n",
      "107     95076  \n",
      "108     95076  \n",
      "109     95076  \n",
      "110     95076  \n",
      "111     95076  \n",
      "112     95076  \n",
      "113     95076  \n",
      "114     95076  \n",
      "115     95076  \n",
      "116     95076  \n",
      "117     95076  \n",
      "118     95076  \n",
      "119     95076  \n",
      "\n",
      "[20 rows x 31 columns]\n"
     ]
    }
   ],
   "source": [
    "movies_ratings = pd.merge(movies, ratings, on=\"movie_id\")\n",
    "movies_ratings['release_date'] = pd.to_datetime(movies_ratings['release_date'])\n",
    "movies_ratings_users = pd.merge(movies_ratings, users, on=\"user_id\")\n",
    "\n",
    "print(movies_ratings_users.iloc[100:120])"
   ]
  },
  {
   "cell_type": "code",
   "execution_count": 12,
   "metadata": {},
   "outputs": [
    {
     "name": "stdout",
     "output_type": "stream",
     "text": [
      "Star Wars (1977)                 583\n",
      "Contact (1997)                   509\n",
      "Fargo (1996)                     508\n",
      "Return of the Jedi (1983)        507\n",
      "Liar Liar (1997)                 485\n",
      "English Patient, The (1996)      481\n",
      "Scream (1996)                    478\n",
      "Toy Story (1995)                 452\n",
      "Air Force One (1997)             431\n",
      "Independence Day (ID4) (1996)    429\n",
      "Name: movie_title, dtype: int64\n"
     ]
    }
   ],
   "source": [
    "# 1) Print a list of the 10 movies that received the most number of ratings.\n",
    "# (first try) most_rated_movies = movies_ratings.groupby([\"movie_id\", \"movie_title\"])[[\"rating\"]].count()\n",
    "most_rated_movies = movies_ratings_users[\"movie_title\"].value_counts(sort=True)\n",
    "\n",
    "print(most_rated_movies[:10])"
   ]
  },
  {
   "cell_type": "code",
   "execution_count": 41,
   "metadata": {
    "collapsed": true
   },
   "outputs": [
    {
     "name": "stdout",
     "output_type": "stream",
     "text": [
      "                                        rating\n",
      "movie_id movie_title                          \n",
      "50       Star Wars (1977)                  583\n",
      "258      Contact (1997)                    509\n",
      "100      Fargo (1996)                      508\n",
      "181      Return of the Jedi (1983)         507\n",
      "294      Liar Liar (1997)                  485\n",
      "286      English Patient, The (1996)       481\n",
      "288      Scream (1996)                     478\n",
      "1        Toy Story (1995)                  452\n",
      "300      Air Force One (1997)              431\n",
      "121      Independence Day (ID4) (1996)     429\n"
     ]
    }
   ],
   "source": [
    "# 2) Print a list of the 10 movies that received the most number of ratings, sorted by the number of ratings\n",
    "print(most_rated_movies.sort_values('rating', ascending=False).head(10))"
   ]
  },
  {
   "cell_type": "code",
   "execution_count": 44,
   "metadata": {
    "collapsed": true
   },
   "outputs": [
    {
     "name": "stdout",
     "output_type": "stream",
     "text": [
      "Drama          39895\n",
      "Comedy         29832\n",
      "Action         25589\n",
      "Thriller       21872\n",
      "Romance        19461\n",
      "Adventure      13753\n",
      "Sci-Fi         12730\n",
      "War             9398\n",
      "Crime           8055\n",
      "Children's      7182\n",
      "Horror          5317\n",
      "Mystery         5245\n",
      "Musical         4954\n",
      "Animation       3605\n",
      "Western         1854\n",
      "Film-Noir       1733\n",
      "Fantasy         1352\n",
      "Documentary      758\n",
      "dtype: int64\n"
     ]
    }
   ],
   "source": [
    "# 3) Print a list of the number of ratings received by each genre.\n",
    "ratings = movies_ratings.loc[:,\"Action\":\"Western\"].sum(axis=0).sort_values(ascending=False)\n",
    "print(ratings)"
   ]
  },
  {
   "cell_type": "code",
   "execution_count": 80,
   "metadata": {
    "collapsed": true
   },
   "outputs": [
    {
     "name": "stdout",
     "output_type": "stream",
     "text": [
      "       movie_id                                        movie_title  rating  \\\n",
      "77936       675  Nosferatu (Nosferatu, eine Symphonie des Graue...       5   \n",
      "\n",
      "      release_date  \n",
      "77936   1922-01-01  \n"
     ]
    }
   ],
   "source": [
    "# 4) Print the oldest movie with a “5” rating.\n",
    "small_df = movies_ratings[[\"movie_id\", \"movie_title\", \"rating\", \"release_date\"]]\n",
    "\n",
    "print(small_df[(small_df[\"release_date\"] == small_df[\"release_date\"].min()) & (small_df[\"rating\"] == 5)][:1])"
   ]
  },
  {
   "cell_type": "code",
   "execution_count": 39,
   "metadata": {},
   "outputs": [
    {
     "name": "stdout",
     "output_type": "stream",
     "text": [
      "0     Animation\n",
      "1        Action\n",
      "2         Crime\n",
      "3         Drama\n",
      "4    Children's\n",
      "5         Drama\n",
      "6         Crime\n",
      "7         Crime\n",
      "8         Drama\n",
      "9        Action\n",
      "Name: genres, dtype: object\n"
     ]
    }
   ],
   "source": [
    "# 5) Print a list of the genre of the top 10 most rated movies.\n",
    "# df[\"category\"] = df.idxmax(axis=1)\n",
    "movies_ratings_users[\"genres\"] = movies_ratings_users.loc[:,\"Action\":\"Western\"].idxmax(axis=1)\n",
    "print(movies_ratings_users[\"genres\"].head(10))"
   ]
  },
  {
   "cell_type": "code",
   "execution_count": 28,
   "metadata": {},
   "outputs": [
    {
     "name": "stdout",
     "output_type": "stream",
     "text": [
      "Scream (1996)                    137\n",
      "Star Wars (1977)                 132\n",
      "Return of the Jedi (1983)        121\n",
      "Contact (1997)                   117\n",
      "Liar Liar (1997)                 117\n",
      "Independence Day (ID4) (1996)    110\n",
      "Toy Story (1995)                 105\n",
      "Twelve Monkeys (1995)            105\n",
      "Chasing Amy (1997)               102\n",
      "Rock, The (1996)                  99\n",
      "Name: movie_title, dtype: int64\n"
     ]
    }
   ],
   "source": [
    "# 6) Print the title of the movie that was rated the most by students\n",
    "print(movies_ratings_users[movies_ratings_users[\"occupation\"] == \"student\"][\"movie_title\"].value_counts(sort=True)[:10])"
   ]
  },
  {
   "cell_type": "code",
   "execution_count": 20,
   "metadata": {},
   "outputs": [
    {
     "name": "stdout",
     "output_type": "stream",
     "text": [
      "Star Wars (1977)                    325\n",
      "Fargo (1996)                        227\n",
      "Godfather, The (1972)               214\n",
      "Raiders of the Lost Ark (1981)      202\n",
      "Pulp Fiction (1994)                 188\n",
      "Schindler's List (1993)             186\n",
      "Silence of the Lambs, The (1991)    181\n",
      "Titanic (1997)                      179\n",
      "Empire Strikes Back, The (1980)     172\n",
      "Return of the Jedi (1983)           171\n",
      "Name: movie_title, dtype: int64\n"
     ]
    }
   ],
   "source": [
    "# 7) Print the list of movies that received the highest number of “5” rating\n",
    "print(movies_ratings[movies_ratings[\"rating\"] == 5][\"movie_title\"].value_counts(sort=True)[:10])"
   ]
  },
  {
   "cell_type": "code",
   "execution_count": 21,
   "metadata": {},
   "outputs": [
    {
     "name": "stdout",
     "output_type": "stream",
     "text": [
      "55414    9\n",
      "55105    6\n",
      "20009    5\n",
      "10003    5\n",
      "55337    5\n",
      "55454    4\n",
      "27514    4\n",
      "55408    4\n",
      "02215    3\n",
      "61801    3\n",
      "Name: zip_code, dtype: int64\n"
     ]
    }
   ],
   "source": [
    "# 8) Print the list of zip codes corresponding to the highest number of users that rated movies.\n",
    "print(users[\"zip_code\"].value_counts(sort=True)[:10])"
   ]
  },
  {
   "cell_type": "code",
   "execution_count": 128,
   "metadata": {},
   "outputs": [
    {
     "name": "stdout",
     "output_type": "stream",
     "text": [
      "Scream (1996)    130\n",
      "Name: movie_title, dtype: int64\n"
     ]
    }
   ],
   "source": [
    "# 9) Find the most rated movie by users in the age group 20 to 25.\n",
    "print(movies_ratings_users[(movies_ratings_users[\"age\"] >= 20) & (movies_ratings_users[\"age\"] <= 25)][\"movie_title\"].value_counts(sort=True)[:1])"
   ]
  },
  {
   "cell_type": "code",
   "execution_count": 122,
   "metadata": {
    "collapsed": true
   },
   "outputs": [
    {
     "name": "stdout",
     "output_type": "stream",
     "text": [
      "   movie_id            movie_title release_date  video_release_date  \\\n",
      "0         1       Toy Story (1995)   1995-01-01                 NaN   \n",
      "1         4      Get Shorty (1995)   1995-01-01                 NaN   \n",
      "2         5         Copycat (1995)   1995-01-01                 NaN   \n",
      "3         7  Twelve Monkeys (1995)   1995-01-01                 NaN   \n",
      "4         8            Babe (1995)   1995-01-01                 NaN   \n",
      "\n",
      "                                            IMDb_URL  unknown  Action  \\\n",
      "0  http://us.imdb.com/M/title-exact?Toy%20Story%2...        0       0   \n",
      "1  http://us.imdb.com/M/title-exact?Get%20Shorty%...        0       1   \n",
      "2  http://us.imdb.com/M/title-exact?Copycat%20(1995)        0       0   \n",
      "3  http://us.imdb.com/M/title-exact?Twelve%20Monk...        0       0   \n",
      "4     http://us.imdb.com/M/title-exact?Babe%20(1995)        0       0   \n",
      "\n",
      "   Adventure  Animation  Children's  ...  Thriller  War  Western  user_id  \\\n",
      "0          0          1           1  ...         0    0        0      308   \n",
      "1          0          0           0  ...         0    0        0      308   \n",
      "2          0          0           0  ...         1    0        0      308   \n",
      "3          0          0           0  ...         0    0        0      308   \n",
      "4          0          0           1  ...         0    0        0      308   \n",
      "\n",
      "   rating  unix_timestamp  age  gender  occupation  zip_code  \n",
      "0       4       887736532   60       M     retired     95076  \n",
      "1       5       887737890   60       M     retired     95076  \n",
      "2       4       887739608   60       M     retired     95076  \n",
      "3       4       887738847   60       M     retired     95076  \n",
      "4       5       887736696   60       M     retired     95076  \n",
      "\n",
      "[5 rows x 31 columns]\n"
     ]
    }
   ],
   "source": [
    "# 10) Print the list of movies that were rate after year 1960.\n",
    "date_cutoff = datetime(1960,1,1)\n",
    "# print(movies_ratings_users.info())\n",
    "print(movies_ratings_users[movies_ratings_users[\"release_date\"] > date_cutoff].head(5))"
   ]
  }
 ],
 "metadata": {
  "kernelspec": {
   "display_name": "Python 3",
   "language": "python",
   "name": "python3"
  },
  "language_info": {
   "codemirror_mode": {
    "name": "ipython",
    "version": 3
   },
   "file_extension": ".py",
   "mimetype": "text/x-python",
   "name": "python",
   "nbconvert_exporter": "python",
   "pygments_lexer": "ipython3",
   "version": "3.6.9"
  }
 },
 "nbformat": 4,
 "nbformat_minor": 4
}
