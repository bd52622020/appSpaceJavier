{
 "cells": [
  {
   "cell_type": "code",
   "execution_count": 44,
   "metadata": {},
   "outputs": [],
   "source": [
    "import math\n",
    "import pandas as pd\n",
    "import numpy as np\n",
    "import datetime as datetime"
   ]
  },
  {
   "cell_type": "code",
   "execution_count": 22,
   "metadata": {},
   "outputs": [
    {
     "name": "stdout",
     "output_type": "stream",
     "text": [
      "278.4581750754231\n"
     ]
    }
   ],
   "source": [
    "# 1. Write a Python program to calculate the distance between two points using latitude and longitude.\n",
    "#     a. Ask user for Input of a latitude and longitude\n",
    "#     b. Calculate the distance between the two\n",
    "def calculate_distance (lat1, lon1, lat2, lon2):\n",
    "    p = math.pi/180\n",
    "    c = math.cos\n",
    "    a = 0.5 - c((lat2 - lat1) * p)/2 + c(lat1 * p) * c(lat2 * p) * (1 - c((lon2 - lon1) * p))/2\n",
    "    \n",
    "    return 12742 * math.asin(math.sqrt(a));\n",
    "\n",
    "p1 = (52.2296756, 21.0122287)\n",
    "p2 = (52.406374, 16.9251681)\n",
    "print(calculate_distance(p1[0], p1[1], p2[0], p2[1]))"
   ]
  },
  {
   "cell_type": "code",
   "execution_count": 20,
   "metadata": {},
   "outputs": [
    {
     "name": "stdout",
     "output_type": "stream",
     "text": [
      "2.23606797749979\n"
     ]
    }
   ],
   "source": [
    "# 2. Write a Python program to calculate the standard deviation of the following data.\n",
    "#     a. data = [4, 2, 5, 8, 6]\n",
    "def calculate_std(arr):\n",
    "    count = len(arr)\n",
    "    mean = sum(arr) / count\n",
    "    devs = map(lambda x: (x - mean) * (x - mean), arr)\n",
    "    \n",
    "    return math.sqrt(sum(devs) / (count-1))\n",
    "\n",
    "example = [4, 2, 5, 8, 6]\n",
    "print(calculate_std(example))"
   ]
  },
  {
   "cell_type": "code",
   "execution_count": 32,
   "metadata": {
    "scrolled": true
   },
   "outputs": [
    {
     "data": {
      "text/html": [
       "<style  type=\"text/css\" >\n",
       "    #T_0fdd71be_b168_11ea_8f6e_0800279b033frow0_col0 {\n",
       "            color:  black;\n",
       "        }    #T_0fdd71be_b168_11ea_8f6e_0800279b033frow0_col1 {\n",
       "            color:  black;\n",
       "        }    #T_0fdd71be_b168_11ea_8f6e_0800279b033frow0_col2 {\n",
       "            color:  black;\n",
       "        }    #T_0fdd71be_b168_11ea_8f6e_0800279b033frow0_col3 {\n",
       "            color:  black;\n",
       "        }    #T_0fdd71be_b168_11ea_8f6e_0800279b033frow1_col0 {\n",
       "            color:  black;\n",
       "        }    #T_0fdd71be_b168_11ea_8f6e_0800279b033frow1_col1 {\n",
       "            color:  black;\n",
       "        }    #T_0fdd71be_b168_11ea_8f6e_0800279b033frow1_col2 {\n",
       "            color:  red;\n",
       "        }    #T_0fdd71be_b168_11ea_8f6e_0800279b033frow1_col3 {\n",
       "            color:  red;\n",
       "        }    #T_0fdd71be_b168_11ea_8f6e_0800279b033frow2_col0 {\n",
       "            color:  red;\n",
       "        }    #T_0fdd71be_b168_11ea_8f6e_0800279b033frow2_col1 {\n",
       "            color:  red;\n",
       "        }    #T_0fdd71be_b168_11ea_8f6e_0800279b033frow2_col2 {\n",
       "            color:  red;\n",
       "        }    #T_0fdd71be_b168_11ea_8f6e_0800279b033frow2_col3 {\n",
       "            color:  black;\n",
       "        }    #T_0fdd71be_b168_11ea_8f6e_0800279b033frow3_col0 {\n",
       "            color:  red;\n",
       "        }    #T_0fdd71be_b168_11ea_8f6e_0800279b033frow3_col1 {\n",
       "            color:  black;\n",
       "        }    #T_0fdd71be_b168_11ea_8f6e_0800279b033frow3_col2 {\n",
       "            color:  black;\n",
       "        }    #T_0fdd71be_b168_11ea_8f6e_0800279b033frow3_col3 {\n",
       "            color:  red;\n",
       "        }    #T_0fdd71be_b168_11ea_8f6e_0800279b033frow4_col0 {\n",
       "            color:  black;\n",
       "        }    #T_0fdd71be_b168_11ea_8f6e_0800279b033frow4_col1 {\n",
       "            color:  red;\n",
       "        }    #T_0fdd71be_b168_11ea_8f6e_0800279b033frow4_col2 {\n",
       "            color:  red;\n",
       "        }    #T_0fdd71be_b168_11ea_8f6e_0800279b033frow4_col3 {\n",
       "            color:  red;\n",
       "        }    #T_0fdd71be_b168_11ea_8f6e_0800279b033frow5_col0 {\n",
       "            color:  black;\n",
       "        }    #T_0fdd71be_b168_11ea_8f6e_0800279b033frow5_col1 {\n",
       "            color:  black;\n",
       "        }    #T_0fdd71be_b168_11ea_8f6e_0800279b033frow5_col2 {\n",
       "            color:  black;\n",
       "        }    #T_0fdd71be_b168_11ea_8f6e_0800279b033frow5_col3 {\n",
       "            color:  red;\n",
       "        }    #T_0fdd71be_b168_11ea_8f6e_0800279b033frow6_col0 {\n",
       "            color:  black;\n",
       "        }    #T_0fdd71be_b168_11ea_8f6e_0800279b033frow6_col1 {\n",
       "            color:  black;\n",
       "        }    #T_0fdd71be_b168_11ea_8f6e_0800279b033frow6_col2 {\n",
       "            color:  black;\n",
       "        }    #T_0fdd71be_b168_11ea_8f6e_0800279b033frow6_col3 {\n",
       "            color:  red;\n",
       "        }    #T_0fdd71be_b168_11ea_8f6e_0800279b033frow7_col0 {\n",
       "            color:  red;\n",
       "        }    #T_0fdd71be_b168_11ea_8f6e_0800279b033frow7_col1 {\n",
       "            color:  black;\n",
       "        }    #T_0fdd71be_b168_11ea_8f6e_0800279b033frow7_col2 {\n",
       "            color:  red;\n",
       "        }    #T_0fdd71be_b168_11ea_8f6e_0800279b033frow7_col3 {\n",
       "            color:  black;\n",
       "        }    #T_0fdd71be_b168_11ea_8f6e_0800279b033frow8_col0 {\n",
       "            color:  black;\n",
       "        }    #T_0fdd71be_b168_11ea_8f6e_0800279b033frow8_col1 {\n",
       "            color:  black;\n",
       "        }    #T_0fdd71be_b168_11ea_8f6e_0800279b033frow8_col2 {\n",
       "            color:  red;\n",
       "        }    #T_0fdd71be_b168_11ea_8f6e_0800279b033frow8_col3 {\n",
       "            color:  red;\n",
       "        }    #T_0fdd71be_b168_11ea_8f6e_0800279b033frow9_col0 {\n",
       "            color:  red;\n",
       "        }    #T_0fdd71be_b168_11ea_8f6e_0800279b033frow9_col1 {\n",
       "            color:  black;\n",
       "        }    #T_0fdd71be_b168_11ea_8f6e_0800279b033frow9_col2 {\n",
       "            color:  black;\n",
       "        }    #T_0fdd71be_b168_11ea_8f6e_0800279b033frow9_col3 {\n",
       "            color:  red;\n",
       "        }</style><table id=\"T_0fdd71be_b168_11ea_8f6e_0800279b033f\" ><thead>    <tr>        <th class=\"blank level0\" ></th>        <th class=\"col_heading level0 col0\" >A</th>        <th class=\"col_heading level0 col1\" >B</th>        <th class=\"col_heading level0 col2\" >C</th>        <th class=\"col_heading level0 col3\" >D</th>    </tr></thead><tbody>\n",
       "                <tr>\n",
       "                        <th id=\"T_0fdd71be_b168_11ea_8f6e_0800279b033flevel0_row0\" class=\"row_heading level0 row0\" >0</th>\n",
       "                        <td id=\"T_0fdd71be_b168_11ea_8f6e_0800279b033frow0_col0\" class=\"data row0 col0\" >85</td>\n",
       "                        <td id=\"T_0fdd71be_b168_11ea_8f6e_0800279b033frow0_col1\" class=\"data row0 col1\" >25</td>\n",
       "                        <td id=\"T_0fdd71be_b168_11ea_8f6e_0800279b033frow0_col2\" class=\"data row0 col2\" >19</td>\n",
       "                        <td id=\"T_0fdd71be_b168_11ea_8f6e_0800279b033frow0_col3\" class=\"data row0 col3\" >54</td>\n",
       "            </tr>\n",
       "            <tr>\n",
       "                        <th id=\"T_0fdd71be_b168_11ea_8f6e_0800279b033flevel0_row1\" class=\"row_heading level0 row1\" >1</th>\n",
       "                        <td id=\"T_0fdd71be_b168_11ea_8f6e_0800279b033frow1_col0\" class=\"data row1 col0\" >8</td>\n",
       "                        <td id=\"T_0fdd71be_b168_11ea_8f6e_0800279b033frow1_col1\" class=\"data row1 col1\" >57</td>\n",
       "                        <td id=\"T_0fdd71be_b168_11ea_8f6e_0800279b033frow1_col2\" class=\"data row1 col2\" >-69</td>\n",
       "                        <td id=\"T_0fdd71be_b168_11ea_8f6e_0800279b033frow1_col3\" class=\"data row1 col3\" >-93</td>\n",
       "            </tr>\n",
       "            <tr>\n",
       "                        <th id=\"T_0fdd71be_b168_11ea_8f6e_0800279b033flevel0_row2\" class=\"row_heading level0 row2\" >2</th>\n",
       "                        <td id=\"T_0fdd71be_b168_11ea_8f6e_0800279b033frow2_col0\" class=\"data row2 col0\" >-13</td>\n",
       "                        <td id=\"T_0fdd71be_b168_11ea_8f6e_0800279b033frow2_col1\" class=\"data row2 col1\" >-47</td>\n",
       "                        <td id=\"T_0fdd71be_b168_11ea_8f6e_0800279b033frow2_col2\" class=\"data row2 col2\" >-88</td>\n",
       "                        <td id=\"T_0fdd71be_b168_11ea_8f6e_0800279b033frow2_col3\" class=\"data row2 col3\" >88</td>\n",
       "            </tr>\n",
       "            <tr>\n",
       "                        <th id=\"T_0fdd71be_b168_11ea_8f6e_0800279b033flevel0_row3\" class=\"row_heading level0 row3\" >3</th>\n",
       "                        <td id=\"T_0fdd71be_b168_11ea_8f6e_0800279b033frow3_col0\" class=\"data row3 col0\" >-52</td>\n",
       "                        <td id=\"T_0fdd71be_b168_11ea_8f6e_0800279b033frow3_col1\" class=\"data row3 col1\" >74</td>\n",
       "                        <td id=\"T_0fdd71be_b168_11ea_8f6e_0800279b033frow3_col2\" class=\"data row3 col2\" >79</td>\n",
       "                        <td id=\"T_0fdd71be_b168_11ea_8f6e_0800279b033frow3_col3\" class=\"data row3 col3\" >-98</td>\n",
       "            </tr>\n",
       "            <tr>\n",
       "                        <th id=\"T_0fdd71be_b168_11ea_8f6e_0800279b033flevel0_row4\" class=\"row_heading level0 row4\" >4</th>\n",
       "                        <td id=\"T_0fdd71be_b168_11ea_8f6e_0800279b033frow4_col0\" class=\"data row4 col0\" >72</td>\n",
       "                        <td id=\"T_0fdd71be_b168_11ea_8f6e_0800279b033frow4_col1\" class=\"data row4 col1\" >-14</td>\n",
       "                        <td id=\"T_0fdd71be_b168_11ea_8f6e_0800279b033frow4_col2\" class=\"data row4 col2\" >-25</td>\n",
       "                        <td id=\"T_0fdd71be_b168_11ea_8f6e_0800279b033frow4_col3\" class=\"data row4 col3\" >-78</td>\n",
       "            </tr>\n",
       "            <tr>\n",
       "                        <th id=\"T_0fdd71be_b168_11ea_8f6e_0800279b033flevel0_row5\" class=\"row_heading level0 row5\" >5</th>\n",
       "                        <td id=\"T_0fdd71be_b168_11ea_8f6e_0800279b033frow5_col0\" class=\"data row5 col0\" >13</td>\n",
       "                        <td id=\"T_0fdd71be_b168_11ea_8f6e_0800279b033frow5_col1\" class=\"data row5 col1\" >28</td>\n",
       "                        <td id=\"T_0fdd71be_b168_11ea_8f6e_0800279b033frow5_col2\" class=\"data row5 col2\" >77</td>\n",
       "                        <td id=\"T_0fdd71be_b168_11ea_8f6e_0800279b033frow5_col3\" class=\"data row5 col3\" >-31</td>\n",
       "            </tr>\n",
       "            <tr>\n",
       "                        <th id=\"T_0fdd71be_b168_11ea_8f6e_0800279b033flevel0_row6\" class=\"row_heading level0 row6\" >6</th>\n",
       "                        <td id=\"T_0fdd71be_b168_11ea_8f6e_0800279b033frow6_col0\" class=\"data row6 col0\" >59</td>\n",
       "                        <td id=\"T_0fdd71be_b168_11ea_8f6e_0800279b033frow6_col1\" class=\"data row6 col1\" >68</td>\n",
       "                        <td id=\"T_0fdd71be_b168_11ea_8f6e_0800279b033frow6_col2\" class=\"data row6 col2\" >64</td>\n",
       "                        <td id=\"T_0fdd71be_b168_11ea_8f6e_0800279b033frow6_col3\" class=\"data row6 col3\" >-11</td>\n",
       "            </tr>\n",
       "            <tr>\n",
       "                        <th id=\"T_0fdd71be_b168_11ea_8f6e_0800279b033flevel0_row7\" class=\"row_heading level0 row7\" >7</th>\n",
       "                        <td id=\"T_0fdd71be_b168_11ea_8f6e_0800279b033frow7_col0\" class=\"data row7 col0\" >-27</td>\n",
       "                        <td id=\"T_0fdd71be_b168_11ea_8f6e_0800279b033frow7_col1\" class=\"data row7 col1\" >6</td>\n",
       "                        <td id=\"T_0fdd71be_b168_11ea_8f6e_0800279b033frow7_col2\" class=\"data row7 col2\" >-26</td>\n",
       "                        <td id=\"T_0fdd71be_b168_11ea_8f6e_0800279b033frow7_col3\" class=\"data row7 col3\" >53</td>\n",
       "            </tr>\n",
       "            <tr>\n",
       "                        <th id=\"T_0fdd71be_b168_11ea_8f6e_0800279b033flevel0_row8\" class=\"row_heading level0 row8\" >8</th>\n",
       "                        <td id=\"T_0fdd71be_b168_11ea_8f6e_0800279b033frow8_col0\" class=\"data row8 col0\" >6</td>\n",
       "                        <td id=\"T_0fdd71be_b168_11ea_8f6e_0800279b033frow8_col1\" class=\"data row8 col1\" >30</td>\n",
       "                        <td id=\"T_0fdd71be_b168_11ea_8f6e_0800279b033frow8_col2\" class=\"data row8 col2\" >-83</td>\n",
       "                        <td id=\"T_0fdd71be_b168_11ea_8f6e_0800279b033frow8_col3\" class=\"data row8 col3\" >-86</td>\n",
       "            </tr>\n",
       "            <tr>\n",
       "                        <th id=\"T_0fdd71be_b168_11ea_8f6e_0800279b033flevel0_row9\" class=\"row_heading level0 row9\" >9</th>\n",
       "                        <td id=\"T_0fdd71be_b168_11ea_8f6e_0800279b033frow9_col0\" class=\"data row9 col0\" >-37</td>\n",
       "                        <td id=\"T_0fdd71be_b168_11ea_8f6e_0800279b033frow9_col1\" class=\"data row9 col1\" >12</td>\n",
       "                        <td id=\"T_0fdd71be_b168_11ea_8f6e_0800279b033frow9_col2\" class=\"data row9 col2\" >49</td>\n",
       "                        <td id=\"T_0fdd71be_b168_11ea_8f6e_0800279b033frow9_col3\" class=\"data row9 col3\" >-69</td>\n",
       "            </tr>\n",
       "    </tbody></table>"
      ],
      "text/plain": [
       "<pandas.io.formats.style.Styler at 0x7ff32ca5fba8>"
      ]
     },
     "execution_count": 32,
     "metadata": {},
     "output_type": "execute_result"
    }
   ],
   "source": [
    "# 3. Create a dataframe of ten rows, four columns with random values. Write a Pandas program to highlight the negative numbers red and positive numbers black.\n",
    "\n",
    "def highlight_values(value):\n",
    "    color = \"red\" if value < 0 else \"black\"\n",
    "    return 'color: %s' % color\n",
    "\n",
    "df = pd.DataFrame(np.random.randint(-100,100,size=(10, 4)), columns=list('ABCD'))\n",
    "df.style.applymap(highlight_values)"
   ]
  },
  {
   "cell_type": "code",
   "execution_count": 79,
   "metadata": {},
   "outputs": [
    {
     "name": "stderr",
     "output_type": "stream",
     "text": [
      "/home/javi/.local/lib/python3.6/site-packages/IPython/core/interactiveshell.py:3063: DtypeWarning: Columns (5,9) have mixed types.Specify dtype option on import or set low_memory=False.\n",
      "  interactivity=interactivity, compiler=compiler, result=result)\n"
     ]
    },
    {
     "name": "stdout",
     "output_type": "stream",
     "text": [
      "2014-05-08 18:45:00\n",
      "1906-11-11 00:00:00\n",
      "39260\n"
     ]
    }
   ],
   "source": [
    "# 4. Write a Pandas program to get the current date, oldest date and number of days between Current date and oldest date of Ufo dataset.\n",
    "\n",
    "def convert_date(value):\n",
    "    try:\n",
    "        res = datetime.datetime.strptime(value, \"%m/%d/%Y %H:%M\")\n",
    "    except ValueError:\n",
    "        value_cleaned = value.replace(\"24:\", \"00:\")\n",
    "        res = datetime.datetime.strptime(value_cleaned, \"%m/%d/%Y %H:%M\")\n",
    "    return res\n",
    "\n",
    "ufo = pd.read_csv(\"ufo_sighting_data.csv\")\n",
    "ufo_cleaned = ufo[ufo[\"Date_time\"] != \"\"]\n",
    "ufo_cleaned['Date_time'] = ufo_cleaned['Date_time'].apply(lambda x: convert_date(x))\n",
    "\n",
    "print(ufo_cleaned.Date_time.max())\n",
    "print(ufo_cleaned.Date_time.min())\n",
    "print((ufo_cleaned.Date_time.max() - ufo_cleaned.Date_time.min()).days)"
   ]
  },
  {
   "cell_type": "code",
   "execution_count": 70,
   "metadata": {},
   "outputs": [
    {
     "name": "stdout",
     "output_type": "stream",
     "text": [
      "71878   2007-08-06 22:20:00\n",
      "Name: Date_time, dtype: datetime64[ns]\n",
      "------------------\n",
      "71878    2007\n",
      "Name: Date_time, dtype: int64\n",
      "71878    8\n",
      "Name: Date_time, dtype: int64\n",
      "71878    6\n",
      "Name: Date_time, dtype: int64\n",
      "71878    22\n",
      "Name: Date_time, dtype: int64\n",
      "71878    20\n",
      "Name: Date_time, dtype: int64\n",
      "71878    0\n",
      "Name: Date_time, dtype: int64\n",
      "71878    0\n",
      "Name: Date_time, dtype: int64\n"
     ]
    }
   ],
   "source": [
    "# 5. Write a Pandas program to extract year, month, day, hour, minute, second and weekday \n",
    "#    from unidentified flying object (UFO) reporting date\n",
    "\n",
    "sample = ufo_cleaned[\"Date_time\"].sample()\n",
    "print(sample)\n",
    "print(\"------------------\")\n",
    "print(str(sample.dt.year))\n",
    "print(str(sample.dt.month))\n",
    "print(str(sample.dt.day))\n",
    "print(str(sample.dt.hour))\n",
    "print(str(sample.dt.minute))\n",
    "print(str(sample.dt.second))\n",
    "print(str(sample.dt.weekday))"
   ]
  },
  {
   "cell_type": "code",
   "execution_count": 88,
   "metadata": {},
   "outputs": [
    {
     "name": "stdout",
     "output_type": "stream",
     "text": [
      "Columns and rows where there are empty values\n"
     ]
    },
    {
     "data": {
      "text/plain": [
       "(array([    1,     2,     6, ..., 80322, 80322, 80324]),\n",
       " array([3, 2, 2, ..., 2, 3, 3]))"
      ]
     },
     "execution_count": 88,
     "metadata": {},
     "output_type": "execute_result"
    }
   ],
   "source": [
    "# 6. Write a Pandas program to check the empty values of UFO (unidentified flying object) Dataframe.\n",
    "\n",
    "print(\"Columns and rows where there are empty values\")\n",
    "np.where(pd.isnull(ufo))"
   ]
  }
 ],
 "metadata": {
  "kernelspec": {
   "display_name": "Python 3",
   "language": "python",
   "name": "python3"
  },
  "language_info": {
   "codemirror_mode": {
    "name": "ipython",
    "version": 3
   },
   "file_extension": ".py",
   "mimetype": "text/x-python",
   "name": "python",
   "nbconvert_exporter": "python",
   "pygments_lexer": "ipython3",
   "version": "3.6.9"
  }
 },
 "nbformat": 4,
 "nbformat_minor": 4
}
